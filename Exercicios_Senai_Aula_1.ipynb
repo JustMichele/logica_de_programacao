{
  "nbformat": 4,
  "nbformat_minor": 0,
  "metadata": {
    "colab": {
      "name": "Exercicios Senai Aula 1.ipynb",
      "provenance": [],
      "collapsed_sections": [
        "d9vbHJyojdQY",
        "gtiQZffv-8Am"
      ],
      "authorship_tag": "ABX9TyPdPKKFe9T8OdN3uuFsoraM",
      "include_colab_link": true
    },
    "kernelspec": {
      "name": "python3",
      "display_name": "Python 3"
    },
    "language_info": {
      "name": "python"
    }
  },
  "cells": [
    {
      "cell_type": "markdown",
      "metadata": {
        "id": "view-in-github",
        "colab_type": "text"
      },
      "source": [
        "<a href=\"https://colab.research.google.com/github/JustMichele/logica_de_programacao/blob/main/Exercicios_Senai_Aula_1.ipynb\" target=\"_parent\"><img src=\"https://colab.research.google.com/assets/colab-badge.svg\" alt=\"Open In Colab\"/></a>"
      ]
    },
    {
      "cell_type": "markdown",
      "source": [
        "## Nível Fácil"
      ],
      "metadata": {
        "id": "d9vbHJyojdQY"
      }
    },
    {
      "cell_type": "code",
      "execution_count": null,
      "metadata": {
        "colab": {
          "base_uri": "https://localhost:8080/"
        },
        "id": "uqfiDvXkfrXA",
        "outputId": "afcf284a-5cc6-49ab-9079-84b4d0c7069a"
      },
      "outputs": [
        {
          "output_type": "stream",
          "name": "stdout",
          "text": [
            "Digite o 1º número: 4\n",
            "Digite o 2º número: 5\n",
            "A Soma dos números 4 e 5 é 9\n"
          ]
        }
      ],
      "source": [
        "#a.\n",
        "x = int(input('Digite o 1º número: '))\n",
        "y = int(input('Digite o 2º número: '))\n",
        "z = x + y\n",
        "print(f'A Soma dos números {x} e {y} é', z)\n"
      ]
    },
    {
      "cell_type": "code",
      "source": [
        "#b.\n",
        "x = int(input('Digite o 1º número: '))\n",
        "y = int(input('Digite o 2º número: '))\n",
        "z = x * y\n",
        "print(f'O resultado da Multiplicação dos números {x} e {y} é', z)"
      ],
      "metadata": {
        "colab": {
          "base_uri": "https://localhost:8080/"
        },
        "id": "4GwiJKhngH9G",
        "outputId": "a2839371-85ad-4241-ad45-24f9c0502033"
      },
      "execution_count": null,
      "outputs": [
        {
          "output_type": "stream",
          "name": "stdout",
          "text": [
            "Digite o 1º número: 3\n",
            "Digite o 2º número: 2\n",
            "O resultado da Multiplicação dos números 3 e 2 é 6\n"
          ]
        }
      ]
    },
    {
      "cell_type": "code",
      "source": [
        "#c. \n",
        "x = int(input('Digite um número: '))\n",
        "z = x**2\n",
        "print(f'O quadrado do número {x} é', z)"
      ],
      "metadata": {
        "colab": {
          "base_uri": "https://localhost:8080/"
        },
        "id": "6T_Fh_4YgOw2",
        "outputId": "60fe99d7-5998-4d1c-f2ce-000517e529ef"
      },
      "execution_count": null,
      "outputs": [
        {
          "output_type": "stream",
          "name": "stdout",
          "text": [
            "Digite um número: 5\n",
            "O quadrado do número 5 é 25\n"
          ]
        }
      ]
    },
    {
      "cell_type": "markdown",
      "source": [
        "## Nível Médio"
      ],
      "metadata": {
        "id": "gtiQZffv-8Am"
      }
    },
    {
      "cell_type": "code",
      "source": [
        "#a. \n",
        "#Se 1 maçã pesa 130g, custará 1,58 Reais = pois 12,20 * 130g = 1,586\n",
        "x = int(input('Quantas maçãs você vai comprar ? '))\n",
        "y = 1.58\n",
        "z = int(x) * float(y)\n",
        "print('Preço total R$', z)"
      ],
      "metadata": {
        "id": "jxzE-PwZkyK1",
        "colab": {
          "base_uri": "https://localhost:8080/"
        },
        "outputId": "c9561260-459e-45a5-b46a-f83933a53ce4"
      },
      "execution_count": null,
      "outputs": [
        {
          "output_type": "stream",
          "name": "stdout",
          "text": [
            "Quantas maçãs você vai comprar ? 7\n",
            "Preço total R$ 11.06\n"
          ]
        }
      ]
    },
    {
      "cell_type": "code",
      "source": [
        "#b.\n",
        "import numpy as np\n",
        "x = float(input('Qual foi a sua nota na 1ª avaliação? '))\n",
        "y = float(input('Qual foi a sua nota na 2ª avaliação? '))\n",
        "lista = [x,y]\n",
        "print('A sua média foi', np.mean(lista))"
      ],
      "metadata": {
        "colab": {
          "base_uri": "https://localhost:8080/"
        },
        "id": "Ks3G2pixDTOC",
        "outputId": "67bcf4ba-d2ff-4b95-c9b9-79a40ea357d8"
      },
      "execution_count": null,
      "outputs": [
        {
          "output_type": "stream",
          "name": "stdout",
          "text": [
            "Qual foi a sua nota na 1ª avaliação? 4.5\n",
            "Qual foi a sua nota na 2ª avaliação? 6.6\n",
            "A sua média foi 5.55\n"
          ]
        }
      ]
    },
    {
      "cell_type": "code",
      "source": [
        "#c\n",
        "s1 = int(input('Digite o número de horas da primeira semana: '))\n",
        "s2 = int(input('Digite o número de horas da segunda semana: '))\n",
        "s3 = int(input('Digite o número de horas da terceira semana: '))\n",
        "s4 = int(input('Digite o número de horas da quarta semana: '))\n",
        "salario_hora = float(input('Digite o salario por hora '))\n",
        "salario_total = (s1+s2+s3+s4) * salario_hora\n",
        "print('O salário do mês é de R$', salario_total)"
      ],
      "metadata": {
        "colab": {
          "base_uri": "https://localhost:8080/"
        },
        "id": "G7ySC94JCPqi",
        "outputId": "bac00bb2-c56e-41bd-9419-7cfb844c6f01"
      },
      "execution_count": null,
      "outputs": [
        {
          "output_type": "stream",
          "name": "stdout",
          "text": [
            "Digite o número de horas da primeira semana: 20\n",
            "Digite o número de horas da segunda semana: 20\n",
            "Digite o número de horas da terceira semana: 20\n",
            "Digite o número de horas da quarta semana: 20\n",
            "Digite o salario por hora10\n",
            "O salário do mês é de R$ 800.0\n"
          ]
        }
      ]
    },
    {
      "cell_type": "code",
      "source": [
        ""
      ],
      "metadata": {
        "id": "KGMxhAHxEmiI"
      },
      "execution_count": null,
      "outputs": []
    },
    {
      "cell_type": "code",
      "source": [
        "nome_completo = '  José Antunes da Silva   '\n",
        "nome_completo = nome_completo.strip() #tira espaco\n",
        "nome_completo = nome_completo.upper() #aumenta da fonte\n",
        "nome_lista = nome_completo.split(' ') #quebra os tokens\n",
        "primeiro_nome = nome_lista[0] \n",
        "ultimo_nome = nome_lista [-1]"
      ],
      "metadata": {
        "id": "iXu9vjT4JC1P"
      },
      "execution_count": null,
      "outputs": []
    },
    {
      "cell_type": "code",
      "source": [
        "primeiro_nome"
      ],
      "metadata": {
        "colab": {
          "base_uri": "https://localhost:8080/",
          "height": 35
        },
        "id": "OFt2FckIJQyM",
        "outputId": "3b648a7e-588f-4e6f-d4e4-6aa8afeec32f"
      },
      "execution_count": null,
      "outputs": [
        {
          "output_type": "execute_result",
          "data": {
            "text/plain": [
              "'JOSÉ'"
            ],
            "application/vnd.google.colaboratory.intrinsic+json": {
              "type": "string"
            }
          },
          "metadata": {},
          "execution_count": 19
        }
      ]
    },
    {
      "cell_type": "code",
      "source": [
        ""
      ],
      "metadata": {
        "id": "J28eQlTZJSW5"
      },
      "execution_count": null,
      "outputs": []
    }
  ]
}